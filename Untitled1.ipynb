{
 "cells": [
  {
   "cell_type": "code",
   "execution_count": 11,
   "metadata": {},
   "outputs": [
    {
     "ename": "ModuleNotFoundError",
     "evalue": "No module named 'sklearn.compose'",
     "output_type": "error",
     "traceback": [
      "\u001b[0;31m---------------------------------------------------------------------------\u001b[0m",
      "\u001b[0;31mModuleNotFoundError\u001b[0m                       Traceback (most recent call last)",
      "\u001b[0;32m<ipython-input-11-47fb39a2f005>\u001b[0m in \u001b[0;36m<module>\u001b[0;34m()\u001b[0m\n\u001b[1;32m      7\u001b[0m \u001b[0;31m#dic_mntnc = dill.load(open('dic_mntnc.pkd', 'rb'))\u001b[0m\u001b[0;34m\u001b[0m\u001b[0;34m\u001b[0m\u001b[0m\n\u001b[1;32m      8\u001b[0m \u001b[0mdf_top2\u001b[0m \u001b[0;34m=\u001b[0m \u001b[0mdill\u001b[0m\u001b[0;34m.\u001b[0m\u001b[0mload\u001b[0m\u001b[0;34m(\u001b[0m\u001b[0mopen\u001b[0m\u001b[0;34m(\u001b[0m\u001b[0;34m'df_top2.pkd'\u001b[0m\u001b[0;34m,\u001b[0m \u001b[0;34m'rb'\u001b[0m\u001b[0;34m)\u001b[0m\u001b[0;34m)\u001b[0m\u001b[0;34m\u001b[0m\u001b[0m\n\u001b[0;32m----> 9\u001b[0;31m \u001b[0mcar_est3\u001b[0m \u001b[0;34m=\u001b[0m \u001b[0mpickle\u001b[0m\u001b[0;34m.\u001b[0m\u001b[0mload\u001b[0m\u001b[0;34m(\u001b[0m\u001b[0mopen\u001b[0m\u001b[0;34m(\u001b[0m\u001b[0;34m'car_est3.sav'\u001b[0m\u001b[0;34m,\u001b[0m \u001b[0;34m'rb'\u001b[0m\u001b[0;34m)\u001b[0m\u001b[0;34m)\u001b[0m\u001b[0;34m\u001b[0m\u001b[0m\n\u001b[0m\u001b[1;32m     10\u001b[0m \u001b[0;31m#df_top[['year_start','year_end']]=df_top[['year_start','year_end']].astype(float)\u001b[0m\u001b[0;34m\u001b[0m\u001b[0;34m\u001b[0m\u001b[0m\n\u001b[1;32m     11\u001b[0m \u001b[0;31m#df_top2[['year0','cost']]=df_top2[['year0','cost']].astype(float)\u001b[0m\u001b[0;34m\u001b[0m\u001b[0;34m\u001b[0m\u001b[0m\n",
      "\u001b[0;31mModuleNotFoundError\u001b[0m: No module named 'sklearn.compose'"
     ]
    }
   ],
   "source": [
    "\n",
    "import dill\n",
    "import pickle\n",
    "import pandas as pd\n",
    "from functools import reduce\n",
    "df_top = dill.load(open('df_top.pkd', 'rb'))\n",
    "#dic_mntnc = dill.load(open('dic_mntnc.pkd', 'rb'))\n",
    "df_top2 = dill.load(open('df_top2.pkd', 'rb'))\n",
    "car_est3 = pickle.load(open('car_est3.sav', 'rb'))\n",
    "#df_top[['year_start','year_end']]=df_top[['year_start','year_end']].astype(float)\n",
    "#df_top2[['year0','cost']]=df_top2[['year0','cost']].astype(float) \n",
    "#mlp\n",
    "years_to_keep=3\n",
    "budget=15000\n",
    "annual_mileage=12000\n",
    "tol=500\n",
    "def map_helper1(cond,i):\n",
    "    return list(df_top2['cost'][cond&(df_top2['year0']==year-i)])[0]\n",
    "def reduce_helper(x,y):\n",
    "    return x+y\n",
    "def cost_calc3(year,make,model,span,est_price):\n",
    "    cond=(df_top2['make0']==make)&(df_top2['model0']==model)\n",
    "    future_price=car_est3.predict([[year-span,make,model,(2019-year)*15000+span*annual_mileage]])\n",
    "    price_drop=est_price-future_price[0]\n",
    "    maintnc_cost=reduce(reduce_helper, map(map_helper1, cond,list(range(span))))\n",
    "    return price_drop+maintnc_cost\n",
    "\n",
    "def car_recom(years_to_keep,budget,annual_mileage,tol):\n",
    "    possible_cars3=pd.DataFrame(columns=['year0','make0','model0','total_cost'])\n",
    "    s=0\n",
    "    for i in range(len(df_top)):\n",
    "        make,model=df_top.loc[i,['make0','model0']]\n",
    "        for j in range(len(df_top2[['cost']][(df_top2['make0']==make)&(df_top2['model0']==model)])-years_to_keep):        \n",
    "            year=max(df_top2[['year0']][(df_top2['make0']==make)&(df_top2['model0']==model)].values)[0]-j\n",
    "    #        if (year-min(df_top2[['year0']][(df_top2['make0']==make)&(df_top2['model0']==model)].values)[0])+1<=years_to_keep: continue\n",
    "            est_price=int(car_est3.predict([[float(year),make,model,float((2019-year)*15000)]])[0])\n",
    "            if (est_price>budget-tol)&(est_price<budget+tol):\n",
    "                possible_cars3.loc[s] = [year,make,model,cost_calc3(year,make,model,years_to_keep,est_price)]\n",
    "                s+=1\n",
    "    return possible_cars3.sort_values(['total_cost'], ascending=[1])\n",
    "df=car_recom(years_to_keep,budget,annual_mileage,tol)\n",
    "df.to_html(classes='df')"
   ]
  },
  {
   "cell_type": "code",
   "execution_count": 17,
   "metadata": {},
   "outputs": [],
   "source": [
    "import sklearn\n",
    "import dill\n",
    "import pickle\n",
    "import pandas as pd\n",
    "from functools import reduce\n",
    "df_top = dill.load(open('df_top.pkd', 'rb'))\n",
    "#dic_mntnc = dill.load(open('dic_mntnc.pkd', 'rb'))\n",
    "df_top2 = dill.load(open('df_top2.pkd', 'rb'))\n",
    "#df_top[['year_start','year_end']]=df_top[['year_start','year_end']].astype(float)\n",
    "#df_top2[['year0','cost']]=df_top2[['year0','cost']].astype(float) \n",
    "#mlp\n",
    "years_to_keep=3\n",
    "budget=15000\n",
    "annual_mileage=12000\n",
    "tol=500\n",
    "def map_helper1(year,make,model,i):\n",
    "    \n",
    "    cond=(df_top2['make0']==make)&(df_top2['model0']==model)\n",
    "    return list(df_top2['cost'][cond&(df_top2['year0']==year-i)])[0]\n",
    "def reduce_helper(x,y):\n",
    "    return x+y\n",
    "def cost_calc3(year,make,model,span,est_price):\n",
    "    \n",
    "    future_price=car_est3.predict([[year-span,make,model,(2019-year)*15000+span*annual_mileage]])\n",
    "    price_drop=est_price-future_price[0]\n",
    "    maintnc_cost=reduce(reduce_helper, map(map_helper1,year,make,model,list(range(span))))\n",
    "    return price_drop+maintnc_cost"
   ]
  },
  {
   "cell_type": "code",
   "execution_count": 18,
   "metadata": {},
   "outputs": [
    {
     "ename": "NameError",
     "evalue": "name 'span' is not defined",
     "output_type": "error",
     "traceback": [
      "\u001b[0;31m---------------------------------------------------------------------------\u001b[0m",
      "\u001b[0;31mNameError\u001b[0m                                 Traceback (most recent call last)",
      "\u001b[0;32m<ipython-input-18-23cb705c1017>\u001b[0m in \u001b[0;36m<module>\u001b[0;34m()\u001b[0m\n\u001b[0;32m----> 1\u001b[0;31m \u001b[0mreduce\u001b[0m\u001b[0;34m(\u001b[0m\u001b[0mreduce_helper\u001b[0m\u001b[0;34m,\u001b[0m \u001b[0mmap\u001b[0m\u001b[0;34m(\u001b[0m\u001b[0mmap_helper1\u001b[0m\u001b[0;34m,\u001b[0m\u001b[0;36m2012\u001b[0m\u001b[0;34m,\u001b[0m\u001b[0;34m'Toyota'\u001b[0m\u001b[0;34m,\u001b[0m\u001b[0;34m'Corolla'\u001b[0m\u001b[0;34m,\u001b[0m\u001b[0mlist\u001b[0m\u001b[0;34m(\u001b[0m\u001b[0mrange\u001b[0m\u001b[0;34m(\u001b[0m\u001b[0mspan\u001b[0m\u001b[0;34m)\u001b[0m\u001b[0;34m)\u001b[0m\u001b[0;34m)\u001b[0m\u001b[0;34m)\u001b[0m\u001b[0;34m\u001b[0m\u001b[0m\n\u001b[0m",
      "\u001b[0;31mNameError\u001b[0m: name 'span' is not defined"
     ]
    }
   ],
   "source": [
    "reduce(reduce_helper, map(map_helper1,2012,'Toyota','Corolla',list(range(span))))"
   ]
  },
  {
   "cell_type": "code",
   "execution_count": 19,
   "metadata": {},
   "outputs": [
    {
     "ename": "TypeError",
     "evalue": "'int' object is not iterable",
     "output_type": "error",
     "traceback": [
      "\u001b[0;31m---------------------------------------------------------------------------\u001b[0m",
      "\u001b[0;31mTypeError\u001b[0m                                 Traceback (most recent call last)",
      "\u001b[0;32m<ipython-input-19-738be4b75643>\u001b[0m in \u001b[0;36m<module>\u001b[0;34m()\u001b[0m\n\u001b[0;32m----> 1\u001b[0;31m \u001b[0mreduce\u001b[0m\u001b[0;34m(\u001b[0m\u001b[0mreduce_helper\u001b[0m\u001b[0;34m,\u001b[0m \u001b[0mmap\u001b[0m\u001b[0;34m(\u001b[0m\u001b[0mmap_helper1\u001b[0m\u001b[0;34m,\u001b[0m\u001b[0;36m2012\u001b[0m\u001b[0;34m,\u001b[0m\u001b[0;34m'Toyota'\u001b[0m\u001b[0;34m,\u001b[0m\u001b[0;34m'Corolla'\u001b[0m\u001b[0;34m,\u001b[0m\u001b[0mlist\u001b[0m\u001b[0;34m(\u001b[0m\u001b[0mrange\u001b[0m\u001b[0;34m(\u001b[0m\u001b[0;36m2\u001b[0m\u001b[0;34m)\u001b[0m\u001b[0;34m)\u001b[0m\u001b[0;34m)\u001b[0m\u001b[0;34m)\u001b[0m\u001b[0;34m\u001b[0m\u001b[0m\n\u001b[0m",
      "\u001b[0;31mTypeError\u001b[0m: 'int' object is not iterable"
     ]
    }
   ],
   "source": [
    "reduce(reduce_helper, map(map_helper1,2012,'Toyota','Corolla',list(range(2))))"
   ]
  },
  {
   "cell_type": "code",
   "execution_count": 27,
   "metadata": {},
   "outputs": [
    {
     "data": {
      "text/plain": [
       "<map at 0x7f0e4d22d978>"
      ]
     },
     "execution_count": 27,
     "metadata": {},
     "output_type": "execute_result"
    }
   ],
   "source": [
    "map(map_helper1,[2012]*4,['Toyota']*4,['Corolla']*4,[1,2,3,4]*4)"
   ]
  },
  {
   "cell_type": "code",
   "execution_count": 23,
   "metadata": {},
   "outputs": [
    {
     "data": {
      "text/plain": [
       "875"
      ]
     },
     "execution_count": 23,
     "metadata": {},
     "output_type": "execute_result"
    }
   ],
   "source": [
    " map_helper1(2012,'Toyota','Corolla',2)"
   ]
  },
  {
   "cell_type": "code",
   "execution_count": 25,
   "metadata": {},
   "outputs": [
    {
     "data": {
      "text/plain": [
       "range(0, 2)"
      ]
     },
     "execution_count": 25,
     "metadata": {},
     "output_type": "execute_result"
    }
   ],
   "source": [
    "range(2)"
   ]
  },
  {
   "cell_type": "code",
   "execution_count": null,
   "metadata": {},
   "outputs": [],
   "source": []
  }
 ],
 "metadata": {
  "kernelspec": {
   "display_name": "Python 3",
   "language": "python",
   "name": "python3"
  },
  "language_info": {
   "codemirror_mode": {
    "name": "ipython",
    "version": 3
   },
   "file_extension": ".py",
   "mimetype": "text/x-python",
   "name": "python",
   "nbconvert_exporter": "python",
   "pygments_lexer": "ipython3",
   "version": "3.6.2"
  }
 },
 "nbformat": 4,
 "nbformat_minor": 2
}
